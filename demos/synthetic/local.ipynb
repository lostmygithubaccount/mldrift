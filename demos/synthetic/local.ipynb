{
 "cells": [
  {
   "cell_type": "code",
   "execution_count": null,
   "metadata": {},
   "outputs": [],
   "source": [
    "%pip install --upgrade mldrift matplotlib"
   ]
  },
  {
   "cell_type": "code",
   "execution_count": null,
   "metadata": {},
   "outputs": [],
   "source": [
    "import numpy as np\n",
    "import pandas as pd\n",
    "import lightgbm as lgbm\n",
    "import matplotlib.pyplot as plt\n",
    "\n",
    "from datetime import datetime, timedelta"
   ]
  },
  {
   "cell_type": "code",
   "execution_count": null,
   "metadata": {},
   "outputs": [],
   "source": [
    "plt.style.use(\"dark_background\")"
   ]
  },
  {
   "cell_type": "code",
   "execution_count": null,
   "metadata": {},
   "outputs": [],
   "source": [
    "t = pd.date_range(start=\"2000-01-01\", end=datetime.today(), freq=\"H\")\n",
    "t"
   ]
  },
  {
   "cell_type": "code",
   "execution_count": null,
   "metadata": {},
   "outputs": [],
   "source": [
    "x = pd.to_numeric(t)\n",
    "x"
   ]
  },
  {
   "cell_type": "code",
   "execution_count": null,
   "metadata": {},
   "outputs": [],
   "source": [
    "f = 1 / (365 * 24 * 60 * 60 * 30 * 10**9) * 10  # f ~= 1/year\n",
    "f"
   ]
  },
  {
   "cell_type": "code",
   "execution_count": null,
   "metadata": {},
   "outputs": [],
   "source": [
    "y = np.sin(2 * np.pi * f * x)\n",
    "y"
   ]
  },
  {
   "cell_type": "code",
   "execution_count": null,
   "metadata": {},
   "outputs": [],
   "source": [
    "data = {\n",
    "    \"f1\": np.sin(2 * np.pi * f * x),  # *(x[-1]-x)*f\n",
    "    \"f2\": np.random.random() * 2 * np.cos(2 * np.pi * f * x)\n",
    "    + 0.2 * np.random.random(x.shape),\n",
    "    \"f3\": np.sinc(2 * np.pi * f * x),\n",
    "    \"f4\": 1 + 0.01 * np.random.random(x.shape),\n",
    "    \"f5\": 1 + 0.2 * np.random.random(x.shape),\n",
    "    # \"f6\": x*f+2*np.random.random(x.shape),\n",
    "    # \"f7\": (x[-1]-x)*f+2*np.random.random(x.shape)\n",
    "}\n",
    "\n",
    "df = pd.DataFrame(data, index=t)"
   ]
  },
  {
   "cell_type": "code",
   "execution_count": null,
   "metadata": {},
   "outputs": [],
   "source": [
    "for i in range(len(data)):\n",
    "\n",
    "    fig, ax = plt.subplots(figsize=(16, 8))\n",
    "\n",
    "    ax.set_xlabel(\"time\")\n",
    "    ax.set_ylabel(\"y\")\n",
    "    ax.set_title(f\"f{i+1}\")\n",
    "\n",
    "    plt.plot(t, df[f\"f{i+1}\"])"
   ]
  },
  {
   "cell_type": "code",
   "execution_count": null,
   "metadata": {},
   "outputs": [],
   "source": [
    "# from src.tabular.lightgbm_diff import DataDiff\n",
    "from mldrift.tabular.lightgbm_diff import DataDiff\n",
    "\n",
    "import mlflow\n",
    "\n",
    "with mlflow.start_run():\n",
    "\n",
    "    baseline = df[\"2000-01-01\":\"2000-02-01\"]\n",
    "    test = df[\"2000-02-01\":\"2000-03-01\"]\n",
    "\n",
    "    diff = DataDiff(baseline, test)\n",
    "\n",
    "    metrics = diff.run()\n",
    "    metrics"
   ]
  },
  {
   "cell_type": "code",
   "execution_count": null,
   "metadata": {},
   "outputs": [],
   "source": [
    "from mldrift.tabular.utils.helper import *"
   ]
  },
  {
   "cell_type": "code",
   "execution_count": null,
   "metadata": {},
   "outputs": [],
   "source": [
    "# automatically use first interval as baseline\n",
    "results = run_and_visualize(\n",
    "    df, start=datetime(2000, 1, 1), end=datetime.today()\n",
    ")"
   ]
  },
  {
   "cell_type": "code",
   "execution_count": null,
   "metadata": {},
   "outputs": [],
   "source": [
    "# explicitly set baseline\n",
    "baseline = df[\"2000-01-01\":\"2001-01-01\"]\n",
    "results = run_and_visualize(\n",
    "    df, start=datetime(2000, 1, 1), end=datetime.today(), baseline_df=baseline\n",
    ")"
   ]
  },
  {
   "cell_type": "code",
   "execution_count": null,
   "metadata": {},
   "outputs": [],
   "source": [
    "# explicitly set baseline and change evaluation interval\n",
    "baseline = df[\"2000-01-01\":\"2002-01-01\"]\n",
    "results = run_and_visualize(\n",
    "    df,\n",
    "    start=datetime(2000, 1, 1),\n",
    "    end=datetime.today(),\n",
    "    baseline_df=baseline,\n",
    "    interval=timedelta(days=365),\n",
    ")"
   ]
  },
  {
   "cell_type": "code",
   "execution_count": null,
   "metadata": {},
   "outputs": [],
   "source": []
  }
 ],
 "metadata": {
  "kernelspec": {
   "display_name": "mldrift",
   "language": "python",
   "name": "mldrift"
  },
  "language_info": {
   "codemirror_mode": {
    "name": "ipython",
    "version": 3
   },
   "file_extension": ".py",
   "mimetype": "text/x-python",
   "name": "python",
   "nbconvert_exporter": "python",
   "pygments_lexer": "ipython3",
   "version": "3.10.0"
  },
  "orig_nbformat": 4
 },
 "nbformat": 4,
 "nbformat_minor": 2
}
